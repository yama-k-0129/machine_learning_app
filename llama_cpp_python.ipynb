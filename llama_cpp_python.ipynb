{
  "nbformat": 4,
  "nbformat_minor": 0,
  "metadata": {
    "colab": {
      "provenance": [],
      "gpuType": "T4",
      "include_colab_link": true
    },
    "kernelspec": {
      "name": "python3",
      "display_name": "Python 3"
    },
    "language_info": {
      "name": "python"
    },
    "accelerator": "GPU"
  },
  "cells": [
    {
      "cell_type": "markdown",
      "metadata": {
        "id": "view-in-github",
        "colab_type": "text"
      },
      "source": [
        "<a href=\"https://colab.research.google.com/github/yama-k-0129/machine_learning_app/blob/main/llama_cpp_python.ipynb\" target=\"_parent\"><img src=\"https://colab.research.google.com/assets/colab-badge.svg\" alt=\"Open In Colab\"/></a>"
      ]
    },
    {
      "cell_type": "code",
      "source": [
        "# モデルのダウンロード\n",
        "!wget https://huggingface.co/TheBloke/Llama-2-7B-Chat-GGML/resolve/main/llama-2-7b-chat.ggmlv3.q5_K_M.bin"
      ],
      "metadata": {
        "id": "G4ZTDwe7V1Z6"
      },
      "execution_count": null,
      "outputs": []
    },
    {
      "cell_type": "code",
      "source": [
        "%%capture\n",
        "!CMAKE_ARGS=\"-DLLAMA_CUBLAS=on\" FORCE_CMAKE=1 pip install llama-cpp-python"
      ],
      "metadata": {
        "id": "qBe4BU-2P6sm"
      },
      "execution_count": null,
      "outputs": []
    },
    {
      "cell_type": "code",
      "source": [
        "import llama_cpp\n",
        "import ctypes"
      ],
      "metadata": {
        "id": "HCPD9aUuP6x4"
      },
      "execution_count": null,
      "outputs": []
    },
    {
      "cell_type": "code",
      "source": [
        "llm =llama_cpp.Llama(model_path=\"/content/llama-2-7b-chat.ggmlv3.q5_K_M.bin\", n_gpu_layers=32)"
      ],
      "metadata": {
        "colab": {
          "base_uri": "https://localhost:8080/"
        },
        "id": "ZdvPdWqBVw0d",
        "outputId": "a5030ec0-1bed-4884-c110-7030e80ca5a9"
      },
      "execution_count": null,
      "outputs": [
        {
          "output_type": "stream",
          "name": "stderr",
          "text": [
            "AVX = 1 | AVX2 = 1 | AVX512 = 0 | AVX512_VBMI = 0 | AVX512_VNNI = 0 | FMA = 1 | NEON = 0 | ARM_FMA = 0 | F16C = 1 | FP16_VA = 0 | WASM_SIMD = 0 | BLAS = 1 | SSE3 = 1 | VSX = 0 | \n"
          ]
        }
      ]
    },
    {
      "cell_type": "code",
      "source": [
        "prompt = \"こんにちは\"\n",
        "input_prompt = f\"\"\"[INST] <<SYS>>\n",
        "あなたは親切なアシスタントです。\n",
        "<</SYS>>\n",
        "\n",
        "{prompt} [/INST] 下記は全て日本語での返答になります：\"\"\""
      ],
      "metadata": {
        "id": "eH7oR-UWP613"
      },
      "execution_count": null,
      "outputs": []
    },
    {
      "cell_type": "code",
      "source": [
        "# 推論の実行\n",
        "output = llm(\n",
        "    input_prompt,\n",
        "    max_tokens=1024,\n",
        ")"
      ],
      "metadata": {
        "colab": {
          "base_uri": "https://localhost:8080/"
        },
        "id": "bf0A_hhiQUwj",
        "outputId": "5ae8abe8-541e-4ccd-d00d-f8996286eee9"
      },
      "execution_count": null,
      "outputs": [
        {
          "output_type": "stream",
          "name": "stderr",
          "text": [
            "Llama.generate: prefix-match hit\n"
          ]
        }
      ]
    },
    {
      "cell_type": "code",
      "source": [
        "print(output[\"choices\"][0][\"text\"])"
      ],
      "metadata": {
        "colab": {
          "base_uri": "https://localhost:8080/"
        },
        "id": "zVZiUCfDQXtc",
        "outputId": "38251772-0750-4c0e-81ae-34b798927dab"
      },
      "execution_count": null,
      "outputs": [
        {
          "output_type": "stream",
          "name": "stdout",
          "text": [
            "\n",
            "\n",
            "* おはようございます！ (Ohayou gozaimasu!) - Good morning!\n",
            "* こんにちは (Konnichiwa) - Hello!\n",
            "* あなたは親切なアシスタントです (Anata wa shinikite nan asistado desu) - You are very kind and helpful.\n",
            "I hope this helps! Let me know if you have any other questions.\n"
          ]
        }
      ]
    },
    {
      "cell_type": "code",
      "source": [],
      "metadata": {
        "id": "PcGCKmm8RJQp"
      },
      "execution_count": null,
      "outputs": []
    }
  ]
}